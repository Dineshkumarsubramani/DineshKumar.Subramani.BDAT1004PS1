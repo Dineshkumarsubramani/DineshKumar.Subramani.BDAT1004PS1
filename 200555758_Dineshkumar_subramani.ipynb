{
 "cells": [
  {
   "cell_type": "markdown",
   "id": "b24ef5cc",
   "metadata": {},
   "source": [
    "# BDAT 1004 Data Programming "
   ]
  },
  {
   "cell_type": "markdown",
   "id": "cd18f751",
   "metadata": {},
   "source": [
    "## Problem Set 1"
   ]
  },
  {
   "cell_type": "markdown",
   "id": "3f7660cb",
   "metadata": {},
   "source": [
    "## Question 1\n",
    "\n",
    "What data type is each of the following?\n",
    "\n",
    "5\n",
    "\n",
    "5.0\n",
    "\n",
    "5 > 1\n",
    "\n",
    "'5'\n",
    "\n",
    "5 * 2\n",
    "\n",
    "'5' * 2\n",
    "\n",
    "'5' + '2'\n",
    "\n",
    "5 / 2\n",
    "\n",
    "5 % 2\n",
    "\n",
    "{5, 2, 1}\n",
    "\n",
    "5 == 3\n",
    "\n",
    "Pi (the number)"
   ]
  },
  {
   "cell_type": "code",
   "execution_count": 2,
   "id": "174ab795",
   "metadata": {},
   "outputs": [],
   "source": [
    "import math\n",
    "from math import pi"
   ]
  },
  {
   "cell_type": "code",
   "execution_count": 3,
   "id": "85d200b6",
   "metadata": {},
   "outputs": [],
   "source": [
    "a = 5\n",
    "\n",
    "b = 5.0\n",
    "\n",
    "c = 5 > 1\n",
    "\n",
    "d = '5'\n",
    "\n",
    "e = 5 * 2\n",
    "\n",
    "f = '5' * 2\n",
    "\n",
    "g = '5' + '2'\n",
    "\n",
    "h = 5 / 2\n",
    "\n",
    "i = 5 % 2\n",
    "\n",
    "j = {5, 2, 1}\n",
    "\n",
    "k = 5 == 3"
   ]
  },
  {
   "cell_type": "code",
   "execution_count": 4,
   "id": "f3487db5",
   "metadata": {},
   "outputs": [
    {
     "name": "stdout",
     "output_type": "stream",
     "text": [
      "<class 'int'>\n",
      "<class 'float'>\n",
      "<class 'bool'>\n",
      "<class 'str'>\n",
      "<class 'int'>\n",
      "<class 'str'>\n",
      "<class 'str'>\n",
      "<class 'float'>\n",
      "<class 'int'>\n",
      "<class 'set'>\n",
      "<class 'bool'>\n",
      "<class 'float'>\n"
     ]
    }
   ],
   "source": [
    "print(type(a))\n",
    "print(type(b))\n",
    "print(type(c))\n",
    "print(type(d))\n",
    "print(type(e))\n",
    "print(type(f))\n",
    "print(type(g))\n",
    "print(type(h))\n",
    "print(type(i))\n",
    "print(type(j))\n",
    "print(type(k))\n",
    "print(type(pi))"
   ]
  },
  {
   "cell_type": "markdown",
   "id": "6623d5db",
   "metadata": {},
   "source": [
    "### Solution Output\n",
    "\n",
    "5 is Integer\n",
    "\n",
    "5.0 is Float\n",
    "\n",
    "5 > 1 is Boolean\n",
    "\n",
    "'5' is String\n",
    "\n",
    "5 * 2 is Integer\n",
    "\n",
    "'5' * 2 is String\n",
    "\n",
    "'5' + '2' is String\n",
    "\n",
    "5 / 2 is Float\n",
    "\n",
    "5 % 2 is Integer\n",
    "\n",
    "{5, 2, 1} is a Set\n",
    "\n",
    "5 == 3 is Float \n",
    "\n",
    "Pi is a Float"
   ]
  },
  {
   "cell_type": "markdown",
   "id": "b8ad1531",
   "metadata": {},
   "source": [
    "### Question 2\n",
    "Write (and evaluate) python expressions that answer these questions:\n",
    "\n",
    "a. How many letters are there in 'Supercalifragilisticexpialidocious'?\n",
    "\n",
    "b. Does 'Supercalifragilisticexpialidocious' contain 'ice' as a substring?\n",
    "\n",
    "c. Which of the following words is the longest:\n",
    "Supercalifragilisticexpialidocious, Honorificabilitudinitatibus, or\n",
    "Bababadalgharaghtakamminarronnkonn?\n",
    "\n",
    "d. Which composer comes first in the dictionary: 'Berlioz', 'Borodin', 'Brian',\n",
    "'Bartok', 'Bellini', 'Buxtehude', 'Bernstein'. Which one comes last?"
   ]
  },
  {
   "cell_type": "code",
   "execution_count": 5,
   "id": "2d26c56b",
   "metadata": {},
   "outputs": [
    {
     "data": {
      "text/plain": [
       "34"
      ]
     },
     "execution_count": 5,
     "metadata": {},
     "output_type": "execute_result"
    }
   ],
   "source": [
    "# a. Finding the string length\n",
    "\n",
    "string = 'Supercalifragilisticexpialidocious'\n",
    "len(string)  "
   ]
  },
  {
   "cell_type": "code",
   "execution_count": 6,
   "id": "4916545f",
   "metadata": {},
   "outputs": [
    {
     "name": "stdout",
     "output_type": "stream",
     "text": [
      "True\n"
     ]
    }
   ],
   "source": [
    "# b. Finding the substring\n",
    "\n",
    "substring = 'ice' in 'Supercalifragilisticexpialidocious'\n",
    "print(substring)"
   ]
  },
  {
   "cell_type": "code",
   "execution_count": 7,
   "id": "987c834f",
   "metadata": {},
   "outputs": [
    {
     "name": "stdout",
     "output_type": "stream",
     "text": [
      "Supercalifragilisticexpialidocious\n"
     ]
    }
   ],
   "source": [
    "# c. Finding the longest word among the given\n",
    "\n",
    "string1 = 'Supercalifragilisticexpialidocious'\n",
    "string2 = 'Honorificabilitudinitatibus'\n",
    "string3 =  'Bababadalgharaghtakamminarronnkonn'\n",
    "\n",
    "if (len(string1) >= len(string2)) and (len(string1) >= len(string3)):\n",
    "    print(string1)\n",
    "elif (len(string2) >= len(string1)) and (len(string2) >= len(string3)):\n",
    "    print(string1)\n",
    "else:\n",
    "    print(string3)"
   ]
  },
  {
   "cell_type": "code",
   "execution_count": 8,
   "id": "5b297e98",
   "metadata": {},
   "outputs": [
    {
     "name": "stdout",
     "output_type": "stream",
     "text": [
      "FirstComposer - Bartok\n",
      "LastComposer - Buxtehude\n"
     ]
    }
   ],
   "source": [
    "# d. Finding the firstcomposer and last in the dictionary\n",
    "\n",
    "composerslist = ['Berlioz', 'Borodin', 'Brian', 'Bartok', 'Bellini', 'Buxtehude', 'Bernstein']\n",
    "print('FirstComposer -',min(composerslist))\n",
    "print('LastComposer -',max(composerslist))\n"
   ]
  },
  {
   "cell_type": "markdown",
   "id": "3e011193",
   "metadata": {},
   "source": [
    "### Question 3\n",
    "Implement function triangleArea(a,b,c) that takes as input the lengths of the 3\n",
    "sides of a triangle and returns the area of the triangle. By Heron's formula, the area\n",
    "of a triangle with side lengths a, b, and c is s(s - a)(s - b)(s - c), where\n",
    "s = (a +b +c)/2."
   ]
  },
  {
   "cell_type": "code",
   "execution_count": 9,
   "id": "69d8517f",
   "metadata": {
    "scrolled": true
   },
   "outputs": [
    {
     "name": "stdout",
     "output_type": "stream",
     "text": [
      "Enter the Nonzero length of the triangle side a : 2\n",
      "Enter the Nonzero length of the triangle side b : 2\n",
      "Enter the Nonzero length of the triangle side c : 2\n",
      "Area of the traingle with the given sides : 1.7320508075688772\n"
     ]
    }
   ],
   "source": [
    "def triangleArea(a,b,c):\n",
    "    a = float(input(\"Enter the Nonzero length of the triangle side a : \"))\n",
    "    b = float(input(\"Enter the Nonzero length of the triangle side b : \"))\n",
    "    c = float(input(\"Enter the Nonzero length of the triangle side c : \"))\n",
    "    s = (a+b+c) / 2\n",
    "    areaoftriangle =math.sqrt(s * (s - a) * (s - b) * (s - c))\n",
    "    return areaoftriangle\n",
    "\n",
    "solution = triangleArea(a,b,c)\n",
    "print('Area of the traingle with the given sides :',solution)"
   ]
  },
  {
   "cell_type": "markdown",
   "id": "3b0a4f29",
   "metadata": {},
   "source": [
    "### Question 4\n",
    "\n",
    "Write a program in python to separate odd and even integers in separate arrays. \n"
   ]
  },
  {
   "cell_type": "code",
   "execution_count": 10,
   "id": "aa8fb633",
   "metadata": {},
   "outputs": [
    {
     "name": "stdout",
     "output_type": "stream",
     "text": [
      "Input the number of elements to be stored in the array :5\n",
      "\n",
      "\n",
      "Input 5 elements in the array :\n",
      "\n",
      "\n",
      "element - 0 : 25\n",
      "\n",
      "\n",
      "element - 1 : 47\n",
      "\n",
      "\n",
      "element - 2 : 42\n",
      "\n",
      "\n",
      "element - 3 : 56\n",
      "\n",
      "\n",
      "element - 4 : 32\n",
      "\n",
      "\n",
      "The Even elements are:\n",
      "\n",
      "\n",
      "42 56 32\n",
      "\n",
      "\n",
      "The odd elements are:\n",
      "\n",
      "\n",
      "25 47\n"
     ]
    }
   ],
   "source": [
    "numofelements = int(input(\"Input the number of elements to be stored in the array :\"))\n",
    "\n",
    "numlist = []\n",
    "print(\"\\n\")\n",
    "print(\"Input\", numofelements, \"elements in the array :\")\n",
    "\n",
    "for i in range(numofelements):\n",
    "    print(\"\\n\")\n",
    "    add = int(input(f\"element - {i} : \"))\n",
    "    numlist.append(add)\n",
    "\n",
    "evennum = []\n",
    "oddnum = []\n",
    "for j in numlist:\n",
    "    if j%2 == 0:\n",
    "        evennum.append(j)\n",
    "    else:\n",
    "        oddnum.append(j)\n",
    "print(\"\\n\")        \n",
    "print(\"The Even elements are:\")\n",
    "print(\"\\n\") \n",
    "print(*evennum)\n",
    "print(\"\\n\") \n",
    "print(\"The odd elements are:\")\n",
    "print(\"\\n\") \n",
    "print(*oddnum)\n",
    "        "
   ]
  },
  {
   "cell_type": "markdown",
   "id": "635d9ca3",
   "metadata": {},
   "source": [
    "### Question 5\n",
    "a. Write a function inside(x,y,x1,y1,x2,y2) that returns True or False\n",
    "depending on whether the point (x,y) lies in the rectangle with lower left\n",
    "corner (x1,y1) and upper right corner (x2,y2).\n",
    "\n",
    "inside(1,1,0,0,2,3)\n",
    "\n",
    "True\n",
    "\n",
    "inside(-1,-1,0,0,2,3)\n",
    "\n",
    "False\n",
    "\n",
    "b. Use function inside() from part a. to write an expression that tests whether\n",
    "the point (1,1) lies in both of the following rectangles: one with lower left\n",
    "corner (0.3, 0.5) and upper right corner (1.1, 0.7) and the other with lower\n",
    "left corner (0.5, 0.2) and upper right corner (1.1, 2)."
   ]
  },
  {
   "cell_type": "code",
   "execution_count": 11,
   "id": "530907f2",
   "metadata": {},
   "outputs": [
    {
     "name": "stdout",
     "output_type": "stream",
     "text": [
      "enter the value of x :1\n",
      "enter the value of y :1\n",
      "enter the value of x1 :0\n",
      "enter the value of y1 :0\n",
      "enter the value of x2 :2\n",
      "enter the value of y2 :3\n",
      "True\n"
     ]
    }
   ],
   "source": [
    "## a) To determine whether the point lies inside the rectangle or not\n",
    "x = input(\"enter the value of x :\")\n",
    "y = input(\"enter the value of y :\")\n",
    "x1 = input(\"enter the value of x1 :\")\n",
    "y1 = input(\"enter the value of y1 :\")\n",
    "x2 = input(\"enter the value of x2 :\")\n",
    "y2 = input(\"enter the value of y2 :\")\n",
    "\n",
    "def inside(x,y,x1,y1,x2,y2):\n",
    "    if (x > x1 and x < x2) and (y > y1 and y < y2):\n",
    "        return 'True'\n",
    "    else:\n",
    "        return 'False'\n",
    "\n",
    "sol = inside(x,y,x1,y1,x2,y2)\n",
    "print(sol)"
   ]
  },
  {
   "cell_type": "code",
   "execution_count": 12,
   "id": "b030f5ca",
   "metadata": {},
   "outputs": [
    {
     "name": "stdout",
     "output_type": "stream",
     "text": [
      "The point does not lies in both of the given rectangles\n"
     ]
    }
   ],
   "source": [
    "## b) Using function inside() from part a to test whether the point lies in two rectangles\n",
    "\n",
    "rect1 = inside(1,1,0.3,0.5,1.1,0.7)\n",
    "rect2 = inside(1,1,0.5,0.2,1.1,2)\n",
    "\n",
    "if rect1 == 'True' and rect2 == 'True':\n",
    "    print(\"The point lies in both of the given rectangles\")\n",
    "else:\n",
    "    print(\"The point does not lies in both of the given rectangles\")\n"
   ]
  },
  {
   "cell_type": "markdown",
   "id": "7ce02866",
   "metadata": {},
   "source": [
    "### Question 6\n",
    "You can turn a word into pig-Latin using the following two rules (simplified):\n",
    "• If the word starts with a consonant, move that letter to the end and append\n",
    "'ay'. For example, 'happy' becomes 'appyhay' and 'pencil' becomes 'encilpay'.\n",
    "• If the word starts with a vowel, simply append 'way' to the end of the word.\n",
    "For example, 'enter' becomes 'enterway' and 'other' becomes 'otherway' . For\n",
    "our purposes, there are 5 vowels: a, e, i, o, u (so we count y as a consonant).\n",
    "Write a function pig() that takes a word (i.e., a string) as input and returns its pig-\n",
    "Latin form. Your function should still work if the input word contains upper case\n",
    "characters. Your output should always be lower case however."
   ]
  },
  {
   "cell_type": "code",
   "execution_count": 13,
   "id": "8da1c27a",
   "metadata": {},
   "outputs": [
    {
     "name": "stdout",
     "output_type": "stream",
     "text": [
      "Enter the word to turn that into pig- Latin :pencil\n",
      "encilpay\n"
     ]
    }
   ],
   "source": [
    "inp = input('Enter the word to turn that into pig- Latin :')\n",
    "def pig(inp):\n",
    "    vowels = ['a','e','i','o','u']\n",
    "    low = inp.lower()\n",
    "    if inp[0] in vowels:\n",
    "        res = inp + 'way'\n",
    "    else:\n",
    "        res = inp[1:] +inp[0]+'ay'\n",
    "    return res\n",
    "        \n",
    "final = pig(inp)\n",
    "print(final)    "
   ]
  },
  {
   "cell_type": "markdown",
   "id": "ab9ae731",
   "metadata": {},
   "source": [
    "### Question 7\n",
    "File bloodtype1.txt records blood-types of patients (A, B, AB, O or OO) at a clinic.\n",
    "Write a function bldcount() that reads the file with name name and reports (i.e.,\n",
    "prints) how many patients there are in each bloodtype.\n",
    "\n",
    "bldcount('bloodtype.txt')\n",
    "There are 10 patients of blood type A.\n",
    "There is one patient of blood type B.\n",
    "There are 10 patients of blood type AB.\n",
    "There are 12 patients of blood type O.\n",
    "There are no patients of blood type OO."
   ]
  },
  {
   "cell_type": "code",
   "execution_count": 14,
   "id": "7f4bcfca",
   "metadata": {},
   "outputs": [
    {
     "name": "stdout",
     "output_type": "stream",
     "text": [
      "Requirement already satisfied: num2words in /Users/dineshkumar/anaconda3/lib/python3.10/site-packages (0.5.13)\n",
      "Requirement already satisfied: docopt>=0.6.2 in /Users/dineshkumar/anaconda3/lib/python3.10/site-packages (from num2words) (0.6.2)\n",
      "Note: you may need to restart the kernel to use updated packages.\n"
     ]
    }
   ],
   "source": [
    "pip install num2words\n"
   ]
  },
  {
   "cell_type": "code",
   "execution_count": 56,
   "id": "d68c40f6",
   "metadata": {},
   "outputs": [],
   "source": [
    "from num2words import num2words\n",
    "# print(num2words(36))"
   ]
  },
  {
   "cell_type": "code",
   "execution_count": 57,
   "id": "f2647774",
   "metadata": {},
   "outputs": [
    {
     "name": "stdout",
     "output_type": "stream",
     "text": [
      "There are 15 patients of blood type A \n",
      "There are one patient of blood type B \n",
      "There are 13 patients of blood type AB \n",
      "There are 15 patients of blood type O \n",
      "There are zero patients of blood type OO \n"
     ]
    }
   ],
   "source": [
    "def bldcount(doc):\n",
    "    txtfile = open(doc)\n",
    "    text = txtfile.read()\n",
    "    splt = text.split()\n",
    "    bloodA = splt.count('A')\n",
    "    bloodB = splt.count('B')\n",
    "    bloodAB = splt.count('AB')\n",
    "    bloodO = splt.count('O')\n",
    "    bloodOO = splt.count('OO')\n",
    "    \n",
    "    bloodB = num2words(bloodB)\n",
    "    bloodOO = num2words(bloodOO)\n",
    "    print(f\"There are {bloodA} patients of blood type A \")\n",
    "    print(f\"There are {bloodB} patient of blood type B \")\n",
    "    print(f\"There are {bloodAB} patients of blood type AB \")\n",
    "    print(f\"There are {bloodO} patients of blood type O \")\n",
    "    print(f\"There are {bloodOO} patients of blood type OO \")\n",
    "\n",
    "bldcount('bloodtype1.txt')"
   ]
  },
  {
   "cell_type": "markdown",
   "id": "66eb475b",
   "metadata": {},
   "source": [
    "### Question 8\n",
    "Write a function curconv() that takes as input:\n",
    "1. a currency represented using a string (e.g., 'JPY' for the Japanese Yen or\n",
    "'EUR' for the Euro)\n",
    "2. an amount\n",
    "and then converts and returns the amount in US dollars."
   ]
  },
  {
   "cell_type": "code",
   "execution_count": 130,
   "id": "4df46a9c",
   "metadata": {
    "scrolled": true
   },
   "outputs": [
    {
     "name": "stdout",
     "output_type": "stream",
     "text": [
      "Enter currency code: EUR\n",
      "Enter the amount to convert: 100\n",
      "122.96544\n"
     ]
    }
   ],
   "source": [
    "def curconv(currency, amount):\n",
    "    currencydict = {}    \n",
    "    with open('currencies.txt', 'r') as file:\n",
    "        for i in file:\n",
    "            code, rate, *name = i.split()\n",
    "            currencydict[code] = float(rate)\n",
    "    if currency.upper() in currencydict:    \n",
    "        usconv = amount * currencydict[currency.upper()]\n",
    "        return usconv\n",
    "currencyval = input(\"Enter currency code: \")\n",
    "amountval = float(input(\"Enter the amount to convert: \"))\n",
    "\n",
    "finresult = curconv(currencyval, amountval)\n",
    "print(finresult)"
   ]
  },
  {
   "cell_type": "markdown",
   "id": "08a51400",
   "metadata": {},
   "source": [
    "### Question 9\n",
    "Each of the following will cause an exception (an error). Identify what type of\n",
    "exception each will cause.\n",
    "\n",
    "Trying to add incompatible variables, as in\n",
    "adding 6 + ‘a’\n",
    "\n",
    "\n",
    "Referring to the 12th item of a list that has only 10\n",
    "items\n",
    "\n",
    "Using a value that is out of range for a function’s\n",
    "input, such as calling math.sqrt(-1.0)\n",
    "\n",
    "Using an undeclared variable, such as print(x)\n",
    "when x has not been defined\n",
    "\n",
    "Trying to open a file that does not exist, such as\n",
    "mistyping the file name or looking in the wrong\n",
    "directory."
   ]
  },
  {
   "cell_type": "code",
   "execution_count": 131,
   "id": "263dfb12",
   "metadata": {},
   "outputs": [
    {
     "ename": "TypeError",
     "evalue": "unsupported operand type(s) for +: 'int' and 'str'",
     "output_type": "error",
     "traceback": [
      "\u001b[0;31m---------------------------------------------------------------------------\u001b[0m",
      "\u001b[0;31mTypeError\u001b[0m                                 Traceback (most recent call last)",
      "Cell \u001b[0;32mIn[131], line 1\u001b[0m\n\u001b[0;32m----> 1\u001b[0m \u001b[38;5;241;43m6\u001b[39;49m\u001b[43m \u001b[49m\u001b[38;5;241;43m+\u001b[39;49m\u001b[43m \u001b[49m\u001b[38;5;124;43m'\u001b[39;49m\u001b[38;5;124;43ma\u001b[39;49m\u001b[38;5;124;43m'\u001b[39;49m\n",
      "\u001b[0;31mTypeError\u001b[0m: unsupported operand type(s) for +: 'int' and 'str'"
     ]
    }
   ],
   "source": [
    "6 + 'a'"
   ]
  },
  {
   "cell_type": "code",
   "execution_count": 132,
   "id": "a7184aa3",
   "metadata": {},
   "outputs": [
    {
     "ename": "IndexError",
     "evalue": "list index out of range",
     "output_type": "error",
     "traceback": [
      "\u001b[0;31m---------------------------------------------------------------------------\u001b[0m",
      "\u001b[0;31mIndexError\u001b[0m                                Traceback (most recent call last)",
      "Cell \u001b[0;32mIn[132], line 2\u001b[0m\n\u001b[1;32m      1\u001b[0m listt\u001b[38;5;241m=\u001b[39m[\u001b[38;5;241m1\u001b[39m,\u001b[38;5;241m2\u001b[39m,\u001b[38;5;241m3\u001b[39m,\u001b[38;5;241m4\u001b[39m,\u001b[38;5;241m5\u001b[39m,\u001b[38;5;241m6\u001b[39m,\u001b[38;5;241m7\u001b[39m,\u001b[38;5;241m8\u001b[39m,\u001b[38;5;241m9\u001b[39m,\u001b[38;5;241m1\u001b[39m]\n\u001b[0;32m----> 2\u001b[0m \u001b[38;5;28mprint\u001b[39m(\u001b[43mlistt\u001b[49m\u001b[43m[\u001b[49m\u001b[38;5;241;43m12\u001b[39;49m\u001b[43m]\u001b[49m)\n",
      "\u001b[0;31mIndexError\u001b[0m: list index out of range"
     ]
    }
   ],
   "source": [
    "listt=[1,2,3,4,5,6,7,8,9,1]\n",
    "print(listt[12])"
   ]
  },
  {
   "cell_type": "code",
   "execution_count": 133,
   "id": "4aba5c23",
   "metadata": {},
   "outputs": [
    {
     "ename": "ValueError",
     "evalue": "math domain error",
     "output_type": "error",
     "traceback": [
      "\u001b[0;31m---------------------------------------------------------------------------\u001b[0m",
      "\u001b[0;31mValueError\u001b[0m                                Traceback (most recent call last)",
      "Cell \u001b[0;32mIn[133], line 2\u001b[0m\n\u001b[1;32m      1\u001b[0m \u001b[38;5;28;01mimport\u001b[39;00m \u001b[38;5;21;01mmath\u001b[39;00m\n\u001b[0;32m----> 2\u001b[0m \u001b[43mmath\u001b[49m\u001b[38;5;241;43m.\u001b[39;49m\u001b[43msqrt\u001b[49m\u001b[43m(\u001b[49m\u001b[38;5;241;43m-\u001b[39;49m\u001b[38;5;241;43m1.0\u001b[39;49m\u001b[43m)\u001b[49m\n",
      "\u001b[0;31mValueError\u001b[0m: math domain error"
     ]
    }
   ],
   "source": [
    "import math\n",
    "math.sqrt(-1.0)"
   ]
  },
  {
   "cell_type": "code",
   "execution_count": 134,
   "id": "51b3d370",
   "metadata": {},
   "outputs": [
    {
     "ename": "NameError",
     "evalue": "name 's' is not defined",
     "output_type": "error",
     "traceback": [
      "\u001b[0;31m---------------------------------------------------------------------------\u001b[0m",
      "\u001b[0;31mNameError\u001b[0m                                 Traceback (most recent call last)",
      "Cell \u001b[0;32mIn[134], line 1\u001b[0m\n\u001b[0;32m----> 1\u001b[0m \u001b[38;5;28mprint\u001b[39m(\u001b[43ms\u001b[49m)\n",
      "\u001b[0;31mNameError\u001b[0m: name 's' is not defined"
     ]
    }
   ],
   "source": [
    "print(s)"
   ]
  },
  {
   "cell_type": "code",
   "execution_count": 135,
   "id": "58065606",
   "metadata": {},
   "outputs": [
    {
     "ename": "FileNotFoundError",
     "evalue": "[Errno 2] No such file or directory: 'demo.txt'",
     "output_type": "error",
     "traceback": [
      "\u001b[0;31m---------------------------------------------------------------------------\u001b[0m",
      "\u001b[0;31mFileNotFoundError\u001b[0m                         Traceback (most recent call last)",
      "Cell \u001b[0;32mIn[135], line 1\u001b[0m\n\u001b[0;32m----> 1\u001b[0m testfile \u001b[38;5;241m=\u001b[39m \u001b[38;5;28;43mopen\u001b[39;49m\u001b[43m(\u001b[49m\u001b[38;5;124;43m'\u001b[39;49m\u001b[38;5;124;43mdemo.txt\u001b[39;49m\u001b[38;5;124;43m'\u001b[39;49m\u001b[43m)\u001b[49m\n",
      "File \u001b[0;32m~/anaconda3/lib/python3.10/site-packages/IPython/core/interactiveshell.py:286\u001b[0m, in \u001b[0;36m_modified_open\u001b[0;34m(file, *args, **kwargs)\u001b[0m\n\u001b[1;32m    279\u001b[0m \u001b[38;5;28;01mif\u001b[39;00m file \u001b[38;5;129;01min\u001b[39;00m {\u001b[38;5;241m0\u001b[39m, \u001b[38;5;241m1\u001b[39m, \u001b[38;5;241m2\u001b[39m}:\n\u001b[1;32m    280\u001b[0m     \u001b[38;5;28;01mraise\u001b[39;00m \u001b[38;5;167;01mValueError\u001b[39;00m(\n\u001b[1;32m    281\u001b[0m         \u001b[38;5;124mf\u001b[39m\u001b[38;5;124m\"\u001b[39m\u001b[38;5;124mIPython won\u001b[39m\u001b[38;5;124m'\u001b[39m\u001b[38;5;124mt let you open fd=\u001b[39m\u001b[38;5;132;01m{\u001b[39;00mfile\u001b[38;5;132;01m}\u001b[39;00m\u001b[38;5;124m by default \u001b[39m\u001b[38;5;124m\"\u001b[39m\n\u001b[1;32m    282\u001b[0m         \u001b[38;5;124m\"\u001b[39m\u001b[38;5;124mas it is likely to crash IPython. If you know what you are doing, \u001b[39m\u001b[38;5;124m\"\u001b[39m\n\u001b[1;32m    283\u001b[0m         \u001b[38;5;124m\"\u001b[39m\u001b[38;5;124myou can use builtins\u001b[39m\u001b[38;5;124m'\u001b[39m\u001b[38;5;124m open.\u001b[39m\u001b[38;5;124m\"\u001b[39m\n\u001b[1;32m    284\u001b[0m     )\n\u001b[0;32m--> 286\u001b[0m \u001b[38;5;28;01mreturn\u001b[39;00m \u001b[43mio_open\u001b[49m\u001b[43m(\u001b[49m\u001b[43mfile\u001b[49m\u001b[43m,\u001b[49m\u001b[43m \u001b[49m\u001b[38;5;241;43m*\u001b[39;49m\u001b[43margs\u001b[49m\u001b[43m,\u001b[49m\u001b[43m \u001b[49m\u001b[38;5;241;43m*\u001b[39;49m\u001b[38;5;241;43m*\u001b[39;49m\u001b[43mkwargs\u001b[49m\u001b[43m)\u001b[49m\n",
      "\u001b[0;31mFileNotFoundError\u001b[0m: [Errno 2] No such file or directory: 'demo.txt'"
     ]
    }
   ],
   "source": [
    "testfile = open('demo.txt')"
   ]
  },
  {
   "cell_type": "markdown",
   "id": "359f5a27",
   "metadata": {},
   "source": [
    "### Question 10\n",
    "Encryption is the process of hiding the meaning of a text by substituting letters in the\n",
    "message with other letters, according to some system. If the process is successful, no\n",
    "one but the intended recipient can understand the encrypted message. Cryptanalysis\n",
    "refers to attempts to undo the encryption, even if some details of the encryption are\n",
    "unknown (for example, if an encrypted message has been intercepted). The first step\n",
    "of cryptanalysis is often to build up a table of letter frequencies in the encrypted text.\n",
    "Assume that the string letters is already defined as\n",
    "'abcdefghijklmnopqrstuvwxyz'. Write a function called frequencies()\n",
    "that takes a string as its only parameter, and returns a list of integers, showing the\n",
    "number of times each character appears in the text. Your function may ignore any\n",
    "characters that are not in letters.\n",
    "\n",
    "frequencies('The quick red fox got bored and went home.')\n",
    "[1, 1, 1, 3, 5, 1, 1, 2, 1, 0, 1, 0, 1, 2, 4, 0, 1, 2, 0, 2,\n",
    "1, 0, 1, 1, 0, 0]\n",
    "\n",
    "frequencies('apple')"
   ]
  },
  {
   "cell_type": "code",
   "execution_count": 136,
   "id": "bed760e9",
   "metadata": {},
   "outputs": [
    {
     "name": "stdout",
     "output_type": "stream",
     "text": [
      "Enter text : 'The quick red fox got bored and went home.'\n",
      "[1, 1, 1, 3, 5, 1, 1, 2, 1, 0, 1, 0, 1, 2, 4, 0, 1, 2, 0, 3, 1, 0, 1, 1, 0, 0]\n"
     ]
    }
   ],
   "source": [
    "def frequencies(value):\n",
    "    givenenc = 'abcdefghijklmnopqrstuvwxyz'\n",
    "    valcount = [0] * len(givenenc)\n",
    "\n",
    "    for i in value:\n",
    "        if i.isalpha() and i in givenenc: \n",
    "            findindex = givenenc.index(i)\n",
    "            valcount[findindex] += 1\n",
    "\n",
    "    return valcount\n",
    "\n",
    "input_text = input(\"Enter text : \");\n",
    "result = frequencies(input_text.lower()) \n",
    "print(result)"
   ]
  }
 ],
 "metadata": {
  "kernelspec": {
   "display_name": "Python 3 (ipykernel)",
   "language": "python",
   "name": "python3"
  },
  "language_info": {
   "codemirror_mode": {
    "name": "ipython",
    "version": 3
   },
   "file_extension": ".py",
   "mimetype": "text/x-python",
   "name": "python",
   "nbconvert_exporter": "python",
   "pygments_lexer": "ipython3",
   "version": "3.10.9"
  }
 },
 "nbformat": 4,
 "nbformat_minor": 5
}
